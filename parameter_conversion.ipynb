{
 "cells": [
  {
   "cell_type": "code",
   "execution_count": 1,
   "id": "e1a47f27",
   "metadata": {},
   "outputs": [],
   "source": [
    "import numpy as np\n",
    "import os\n",
    "import pandas as pd"
   ]
  },
  {
   "cell_type": "markdown",
   "id": "9730d29b",
   "metadata": {},
   "source": [
    "# Putting Verbrugge's parameters in csv files\n",
    "\n",
    "Future: make table of content with citations"
   ]
  },
  {
   "cell_type": "code",
   "execution_count": 2,
   "id": "c4e46358",
   "metadata": {},
   "outputs": [],
   "source": [
    "# electrode = 'Graphite'\n",
    "\n",
    "# parameters = {'j': [1, 2, 3, 4, 5, 6], \n",
    "#               'Uj0': [0.08843, 0.12799, 0.14331, 0.16984, 0.21446, 0.36325],\n",
    "#              'Xj': [0.4336, 0.23963, 0.15018, 0.05462, 0.06744, 0.5476],\n",
    "#              'wj': [0.08611, 0.08009, 0.72469, 2.53277, 0.09470, 5.97354]}\n",
    "# parameters = pd.DataFrame(data = parameters)\n",
    "# parameters = parameters.set_index('j')\n",
    "# parameters"
   ]
  },
  {
   "cell_type": "code",
   "execution_count": 4,
   "id": "286ae1e4",
   "metadata": {},
   "outputs": [],
   "source": [
    "# electrode = 'LFP'\n",
    "\n",
    "# parameters = {'j': [1, 2], \n",
    "#               'Uj0': [3.42977, 3.42977],\n",
    "#              'Xj': [0.82584, 0.17416],\n",
    "#              'wj': [0.06098, 0.35868]}\n",
    "# parameters = pd.DataFrame(data = parameters)\n",
    "# parameters = parameters.set_index('j')\n",
    "# parameters\n",
    "\n",
    "# path = 'data/electrode_parameters/' + electrode\n",
    "\n",
    "# with open(path, 'a') as f:\n",
    "#     df_csv = parameters.to_csv()\n",
    "#     f.write(df_csv)"
   ]
  },
  {
   "cell_type": "code",
   "execution_count": 6,
   "id": "8039f255",
   "metadata": {},
   "outputs": [],
   "source": [
    "electrode = 'Spinel LMO'\n",
    "\n",
    "parameters = {'j': [1, 2], \n",
    "              'Uj0': [4.01173, 4.14902],\n",
    "             'Xj': [0.55070, 0.44930],\n",
    "             'wj': [1.52000, 0.93000]}\n",
    "parameters = pd.DataFrame(data = parameters)\n",
    "parameters = parameters.set_index('j')\n",
    "parameters\n",
    "\n",
    "path = 'data/electrode_parameters/' + electrode\n",
    "\n",
    "with open(path, 'a') as f:\n",
    "    df_csv = parameters.to_csv()\n",
    "    f.write(df_csv)"
   ]
  },
  {
   "cell_type": "markdown",
   "id": "488a2700",
   "metadata": {},
   "source": [
    "# Half-cell data "
   ]
  },
  {
   "cell_type": "code",
   "execution_count": 9,
   "id": "77f76dfa",
   "metadata": {},
   "outputs": [],
   "source": [
    "electrode = 'Na metal'\n",
    "\n",
    "parameters = {'j': [1, 2], \n",
    "              'Uj0': [-1E-5, 1E-5],\n",
    "             'Xj': [0.5, 0.5],\n",
    "             'wj': [0.1, 0.1]}\n",
    "\n",
    "parameters = pd.DataFrame(data = parameters)\n",
    "parameters = parameters.set_index('j')\n",
    "parameters\n",
    "\n",
    "path = 'data/electrode_parameters/' + electrode\n",
    "\n",
    "with open(path, 'a') as f:\n",
    "    df_csv = parameters.to_csv()\n",
    "    f.write(df_csv)"
   ]
  },
  {
   "cell_type": "code",
   "execution_count": 7,
   "id": "de16c558",
   "metadata": {},
   "outputs": [],
   "source": [
    "electrode = 'Hard Carbon (Na)'\n",
    "\n",
    "parameters = {'j': [1, 2, 3], \n",
    "              'Uj0': [0.08, 0.2, 0.57],\n",
    "             'Xj': [0.5, 0.15, 0.35],\n",
    "             'wj': [0.7, 3, 5]}\n",
    "parameters = pd.DataFrame(data = parameters)\n",
    "parameters = parameters.set_index('j')\n",
    "parameters\n",
    "\n",
    "path = 'data/electrode_parameters/' + electrode\n",
    "\n",
    "with open(path, 'a') as f:\n",
    "    df_csv = parameters.to_csv()\n",
    "    f.write(df_csv)"
   ]
  },
  {
   "cell_type": "code",
   "execution_count": null,
   "id": "7db5134d",
   "metadata": {},
   "outputs": [],
   "source": []
  }
 ],
 "metadata": {
  "kernelspec": {
   "display_name": "Python 3 (ipykernel)",
   "language": "python",
   "name": "python3"
  },
  "language_info": {
   "codemirror_mode": {
    "name": "ipython",
    "version": 3
   },
   "file_extension": ".py",
   "mimetype": "text/x-python",
   "name": "python",
   "nbconvert_exporter": "python",
   "pygments_lexer": "ipython3",
   "version": "3.7.6"
  }
 },
 "nbformat": 4,
 "nbformat_minor": 5
}
